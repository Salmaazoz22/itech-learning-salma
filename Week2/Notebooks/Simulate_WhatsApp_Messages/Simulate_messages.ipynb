{
  "nbformat": 4,
  "nbformat_minor": 0,
  "metadata": {
    "colab": {
      "provenance": []
    },
    "kernelspec": {
      "name": "python3",
      "display_name": "Python 3"
    },
    "language_info": {
      "name": "python"
    }
  },
  "cells": [
    {
      "cell_type": "code",
      "execution_count": 1,
      "metadata": {
        "colab": {
          "base_uri": "https://localhost:8080/"
        },
        "id": "fEj4zF6E29z2",
        "outputId": "bbf7f17b-c8d8-4fc3-dd95-fd05e09a444e"
      },
      "outputs": [
        {
          "output_type": "stream",
          "name": "stdout",
          "text": [
            "Requirement already satisfied: requests in /usr/local/lib/python3.12/dist-packages (2.32.4)\n",
            "Requirement already satisfied: charset_normalizer<4,>=2 in /usr/local/lib/python3.12/dist-packages (from requests) (3.4.3)\n",
            "Requirement already satisfied: idna<4,>=2.5 in /usr/local/lib/python3.12/dist-packages (from requests) (3.10)\n",
            "Requirement already satisfied: urllib3<3,>=1.21.1 in /usr/local/lib/python3.12/dist-packages (from requests) (2.5.0)\n",
            "Requirement already satisfied: certifi>=2017.4.17 in /usr/local/lib/python3.12/dist-packages (from requests) (2025.8.3)\n"
          ]
        }
      ],
      "source": [
        "pip install requests"
      ]
    },
    {
      "cell_type": "code",
      "source": [
        "import os\n",
        "\n",
        "os.environ[\"SUPABASE_URL\"] = \"https://nvnkoqfgwuospovullhv.supabase.co\"\n",
        "os.environ[\"SUPABASE_KEY\"] =  \"YOUR_SUPABASE_KEY\" # Replace with your anon/public key\n",
        "\n"
      ],
      "metadata": {
        "id": "P7xfr2xX7l1x"
      },
      "execution_count": 4,
      "outputs": []
    },
    {
      "cell_type": "code",
      "source": [
        "import requests\n",
        "import datetime\n",
        "\n",
        "# --- Supabase Config ---\n",
        "SUPABASE_URL = os.getenv(\"SUPABASE_URL\")\n",
        "SUPABASE_KEY = os.getenv(\"SUPABASE_KEY\")\n",
        "\n",
        "\n",
        "\n",
        "headers = {\n",
        "    \"apikey\": SUPABASE_KEY,\n",
        "    \"Authorization\": f\"Bearer {SUPABASE_KEY}\",\n",
        "    \"Content-Type\": \"application/json\"\n",
        "}\n",
        "\n",
        "# --- Function to Send/Receive ---\n",
        "def log_message(phone_number: str, message: str, direction: str = \"sent\"):\n",
        "    \"\"\"Simulate sending/receiving a WhatsApp message\"\"\"\n",
        "    url = f\"{SUPABASE_URL}/rest/v1/messages\"\n",
        "    payload = {\n",
        "        \"phone_number\": phone_number,\n",
        "        \"message\": message,\n",
        "        \"direction\": direction,\n",
        "        \"timestamp\": datetime.datetime.now(datetime.UTC).isoformat()\n",
        "    }\n",
        "    response = requests.post(url, json=payload, headers=headers)\n",
        "    if response.status_code == 201:\n",
        "        print(f\"[{direction.upper()}] {message}\")\n",
        "    else:\n",
        "        print(\"Error:\", response.status_code, response.text)\n",
        "\n",
        "def get_chat(phone_number: str):\n",
        "    \"\"\"Retrieve conversation for a phone number\"\"\"\n",
        "    url = f\"{SUPABASE_URL}/rest/v1/messages\"\n",
        "    params = {\n",
        "        \"phone_number\": f\"eq.{phone_number}\",\n",
        "        \"select\": \"*\",\n",
        "        \"order\": \"timestamp.asc\"\n",
        "    }\n",
        "    response = requests.get(url, headers=headers, params=params)\n",
        "\n",
        "    if response.ok:\n",
        "        chat = response.json()\n",
        "        print(f\"\\n--- Chat with {phone_number} ---\")\n",
        "        for msg in chat:\n",
        "            print(f\"{msg['timestamp']} | {msg['direction'].upper()}: {msg['message']}\")\n",
        "        return chat\n",
        "    else:\n",
        "        print(\"Error:\", response.status_code, response.text)\n",
        "        return []\n",
        "\n",
        "# --- Example Simulation ---\n",
        "if __name__ == \"__main__\":\n",
        "    phone = \"+201234567890\"\n",
        "\n",
        "    # Simulate sending a message\n",
        "    log_message(phone, \"Hello, this is Salma 👋\", \"sent\")\n",
        "\n",
        "    # Simulate receiving a message\n",
        "    log_message(phone, \"Hey Salma, got your message ✅\", \"received\")\n",
        "\n",
        "    # Simulate another sent message\n",
        "    log_message(phone, \"Great! Let’s meet tomorrow.\", \"sent\")\n",
        "\n",
        "    # Get chat history\n",
        "    get_chat(phone)\n"
      ],
      "metadata": {
        "colab": {
          "base_uri": "https://localhost:8080/"
        },
        "id": "mzoMLSLw3dE2",
        "outputId": "b502a09d-e55e-41bf-81ab-e1801f4818e6"
      },
      "execution_count": 5,
      "outputs": [
        {
          "output_type": "stream",
          "name": "stdout",
          "text": [
            "[SENT] Hello, this is Salma 👋\n",
            "[RECEIVED] Hey Salma, got your message ✅\n",
            "[SENT] Great! Let’s meet tomorrow.\n",
            "\n",
            "--- Chat with +201234567890 ---\n",
            "2025-08-30T16:48:24.730574+00:00 | SENT: Hello, this is Salma 👋\n",
            "2025-08-30T16:48:25.639136+00:00 | RECEIVED: Hey Salma, got your message ✅\n",
            "2025-08-30T16:48:25.982306+00:00 | SENT: Great! Let’s meet tomorrow.\n",
            "2025-09-04T10:34:44.694305+00:00 | SENT: Hello, this is Salma 👋\n",
            "2025-09-04T10:34:45.77766+00:00 | RECEIVED: Hey Salma, got your message ✅\n",
            "2025-09-04T10:34:46.086358+00:00 | SENT: Great! Let’s meet tomorrow.\n"
          ]
        }
      ]
    }
  ]
}
