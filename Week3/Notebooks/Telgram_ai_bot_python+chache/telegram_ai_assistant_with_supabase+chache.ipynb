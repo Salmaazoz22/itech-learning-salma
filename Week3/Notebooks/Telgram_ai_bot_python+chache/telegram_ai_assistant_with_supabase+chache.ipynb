{
  "nbformat": 4,
  "nbformat_minor": 0,
  "metadata": {
    "colab": {
      "provenance": []
    },
    "kernelspec": {
      "name": "python3",
      "display_name": "Python 3"
    },
    "language_info": {
      "name": "python"
    }
  },
  "cells": [
    {
      "cell_type": "code",
      "source": [
        "!pip install fastapi uvicorn requests supabase python-telegram-bot python-dotenv pyngrok nest_asyncio\n"
      ],
      "metadata": {
        "colab": {
          "base_uri": "https://localhost:8080/"
        },
        "id": "lkg1hwqUuNRC",
        "outputId": "c2704561-a7ed-4127-dd8c-f5a08743a57b"
      },
      "execution_count": 1,
      "outputs": [
        {
          "output_type": "stream",
          "name": "stdout",
          "text": [
            "Requirement already satisfied: fastapi in /usr/local/lib/python3.12/dist-packages (0.116.1)\n",
            "Requirement already satisfied: uvicorn in /usr/local/lib/python3.12/dist-packages (0.35.0)\n",
            "Requirement already satisfied: requests in /usr/local/lib/python3.12/dist-packages (2.32.4)\n",
            "Collecting supabase\n",
            "  Downloading supabase-2.18.1-py3-none-any.whl.metadata (11 kB)\n",
            "Collecting python-telegram-bot\n",
            "  Downloading python_telegram_bot-22.4-py3-none-any.whl.metadata (17 kB)\n",
            "Requirement already satisfied: python-dotenv in /usr/local/lib/python3.12/dist-packages (1.1.1)\n",
            "Collecting pyngrok\n",
            "  Downloading pyngrok-7.3.0-py3-none-any.whl.metadata (8.1 kB)\n",
            "Requirement already satisfied: nest_asyncio in /usr/local/lib/python3.12/dist-packages (1.6.0)\n",
            "Requirement already satisfied: starlette<0.48.0,>=0.40.0 in /usr/local/lib/python3.12/dist-packages (from fastapi) (0.47.3)\n",
            "Requirement already satisfied: pydantic!=1.8,!=1.8.1,!=2.0.0,!=2.0.1,!=2.1.0,<3.0.0,>=1.7.4 in /usr/local/lib/python3.12/dist-packages (from fastapi) (2.11.7)\n",
            "Requirement already satisfied: typing-extensions>=4.8.0 in /usr/local/lib/python3.12/dist-packages (from fastapi) (4.15.0)\n",
            "Requirement already satisfied: click>=7.0 in /usr/local/lib/python3.12/dist-packages (from uvicorn) (8.2.1)\n",
            "Requirement already satisfied: h11>=0.8 in /usr/local/lib/python3.12/dist-packages (from uvicorn) (0.16.0)\n",
            "Requirement already satisfied: charset_normalizer<4,>=2 in /usr/local/lib/python3.12/dist-packages (from requests) (3.4.3)\n",
            "Requirement already satisfied: idna<4,>=2.5 in /usr/local/lib/python3.12/dist-packages (from requests) (3.10)\n",
            "Requirement already satisfied: urllib3<3,>=1.21.1 in /usr/local/lib/python3.12/dist-packages (from requests) (2.5.0)\n",
            "Requirement already satisfied: certifi>=2017.4.17 in /usr/local/lib/python3.12/dist-packages (from requests) (2025.8.3)\n",
            "Collecting postgrest==1.1.1 (from supabase)\n",
            "  Downloading postgrest-1.1.1-py3-none-any.whl.metadata (3.5 kB)\n",
            "Collecting realtime==2.7.0 (from supabase)\n",
            "  Downloading realtime-2.7.0-py3-none-any.whl.metadata (6.6 kB)\n",
            "Collecting supabase-auth==2.12.3 (from supabase)\n",
            "  Downloading supabase_auth-2.12.3-py3-none-any.whl.metadata (6.5 kB)\n",
            "Collecting storage3==0.12.1 (from supabase)\n",
            "  Downloading storage3-0.12.1-py3-none-any.whl.metadata (1.9 kB)\n",
            "Collecting supabase-functions==0.10.1 (from supabase)\n",
            "  Downloading supabase_functions-0.10.1-py3-none-any.whl.metadata (1.2 kB)\n",
            "Requirement already satisfied: httpx<0.29,>=0.26 in /usr/local/lib/python3.12/dist-packages (from supabase) (0.28.1)\n",
            "Collecting deprecation<3.0.0,>=2.1.0 (from postgrest==1.1.1->supabase)\n",
            "  Downloading deprecation-2.1.0-py2.py3-none-any.whl.metadata (4.6 kB)\n",
            "Requirement already satisfied: websockets<16,>=11 in /usr/local/lib/python3.12/dist-packages (from realtime==2.7.0->supabase) (15.0.1)\n",
            "Requirement already satisfied: python-dateutil<3.0.0,>=2.8.2 in /usr/local/lib/python3.12/dist-packages (from storage3==0.12.1->supabase) (2.9.0.post0)\n",
            "Requirement already satisfied: pyjwt<3.0.0,>=2.10.1 in /usr/local/lib/python3.12/dist-packages (from supabase-auth==2.12.3->supabase) (2.10.1)\n",
            "Collecting strenum<0.5.0,>=0.4.15 (from supabase-functions==0.10.1->supabase)\n",
            "  Downloading StrEnum-0.4.15-py3-none-any.whl.metadata (5.3 kB)\n",
            "Requirement already satisfied: PyYAML>=5.1 in /usr/local/lib/python3.12/dist-packages (from pyngrok) (6.0.2)\n",
            "Requirement already satisfied: anyio in /usr/local/lib/python3.12/dist-packages (from httpx<0.29,>=0.26->supabase) (4.10.0)\n",
            "Requirement already satisfied: httpcore==1.* in /usr/local/lib/python3.12/dist-packages (from httpx<0.29,>=0.26->supabase) (1.0.9)\n",
            "Requirement already satisfied: annotated-types>=0.6.0 in /usr/local/lib/python3.12/dist-packages (from pydantic!=1.8,!=1.8.1,!=2.0.0,!=2.0.1,!=2.1.0,<3.0.0,>=1.7.4->fastapi) (0.7.0)\n",
            "Requirement already satisfied: pydantic-core==2.33.2 in /usr/local/lib/python3.12/dist-packages (from pydantic!=1.8,!=1.8.1,!=2.0.0,!=2.0.1,!=2.1.0,<3.0.0,>=1.7.4->fastapi) (2.33.2)\n",
            "Requirement already satisfied: typing-inspection>=0.4.0 in /usr/local/lib/python3.12/dist-packages (from pydantic!=1.8,!=1.8.1,!=2.0.0,!=2.0.1,!=2.1.0,<3.0.0,>=1.7.4->fastapi) (0.4.1)\n",
            "Requirement already satisfied: sniffio>=1.1 in /usr/local/lib/python3.12/dist-packages (from anyio->httpx<0.29,>=0.26->supabase) (1.3.1)\n",
            "Requirement already satisfied: packaging in /usr/local/lib/python3.12/dist-packages (from deprecation<3.0.0,>=2.1.0->postgrest==1.1.1->supabase) (25.0)\n",
            "Requirement already satisfied: h2<5,>=3 in /usr/local/lib/python3.12/dist-packages (from httpx[http2]<0.29,>=0.26->postgrest==1.1.1->supabase) (4.3.0)\n",
            "Requirement already satisfied: six>=1.5 in /usr/local/lib/python3.12/dist-packages (from python-dateutil<3.0.0,>=2.8.2->storage3==0.12.1->supabase) (1.17.0)\n",
            "Requirement already satisfied: hyperframe<7,>=6.1 in /usr/local/lib/python3.12/dist-packages (from h2<5,>=3->httpx[http2]<0.29,>=0.26->postgrest==1.1.1->supabase) (6.1.0)\n",
            "Requirement already satisfied: hpack<5,>=4.1 in /usr/local/lib/python3.12/dist-packages (from h2<5,>=3->httpx[http2]<0.29,>=0.26->postgrest==1.1.1->supabase) (4.1.0)\n",
            "Downloading supabase-2.18.1-py3-none-any.whl (18 kB)\n",
            "Downloading postgrest-1.1.1-py3-none-any.whl (22 kB)\n",
            "Downloading realtime-2.7.0-py3-none-any.whl (22 kB)\n",
            "Downloading storage3-0.12.1-py3-none-any.whl (18 kB)\n",
            "Downloading supabase_auth-2.12.3-py3-none-any.whl (44 kB)\n",
            "\u001b[2K   \u001b[90m━━━━━━━━━━━━━━━━━━━━━━━━━━━━━━━━━━━━━━━━\u001b[0m \u001b[32m44.4/44.4 kB\u001b[0m \u001b[31m3.2 MB/s\u001b[0m eta \u001b[36m0:00:00\u001b[0m\n",
            "\u001b[?25hDownloading supabase_functions-0.10.1-py3-none-any.whl (8.3 kB)\n",
            "Downloading python_telegram_bot-22.4-py3-none-any.whl (729 kB)\n",
            "\u001b[2K   \u001b[90m━━━━━━━━━━━━━━━━━━━━━━━━━━━━━━━━━━━━━━━━\u001b[0m \u001b[32m729.4/729.4 kB\u001b[0m \u001b[31m19.5 MB/s\u001b[0m eta \u001b[36m0:00:00\u001b[0m\n",
            "\u001b[?25hDownloading pyngrok-7.3.0-py3-none-any.whl (25 kB)\n",
            "Downloading deprecation-2.1.0-py2.py3-none-any.whl (11 kB)\n",
            "Downloading StrEnum-0.4.15-py3-none-any.whl (8.9 kB)\n",
            "Installing collected packages: strenum, pyngrok, deprecation, realtime, python-telegram-bot, supabase-functions, supabase-auth, storage3, postgrest, supabase\n",
            "Successfully installed deprecation-2.1.0 postgrest-1.1.1 pyngrok-7.3.0 python-telegram-bot-22.4 realtime-2.7.0 storage3-0.12.1 strenum-0.4.15 supabase-2.18.1 supabase-auth-2.12.3 supabase-functions-0.10.1\n"
          ]
        }
      ]
    },
    {
      "cell_type": "code",
      "source": [
        "!pip install supabase"
      ],
      "metadata": {
        "colab": {
          "base_uri": "https://localhost:8080/"
        },
        "id": "TBFbuyo9Ypdd",
        "outputId": "614149de-cfc6-4400-dfdf-25eb91b05523"
      },
      "execution_count": null,
      "outputs": [
        {
          "output_type": "stream",
          "name": "stdout",
          "text": [
            "Requirement already satisfied: supabase in /usr/local/lib/python3.12/dist-packages (2.18.1)\n",
            "Requirement already satisfied: postgrest==1.1.1 in /usr/local/lib/python3.12/dist-packages (from supabase) (1.1.1)\n",
            "Requirement already satisfied: realtime==2.7.0 in /usr/local/lib/python3.12/dist-packages (from supabase) (2.7.0)\n",
            "Requirement already satisfied: supabase-auth==2.12.3 in /usr/local/lib/python3.12/dist-packages (from supabase) (2.12.3)\n",
            "Requirement already satisfied: storage3==0.12.1 in /usr/local/lib/python3.12/dist-packages (from supabase) (0.12.1)\n",
            "Requirement already satisfied: supabase-functions==0.10.1 in /usr/local/lib/python3.12/dist-packages (from supabase) (0.10.1)\n",
            "Requirement already satisfied: httpx<0.29,>=0.26 in /usr/local/lib/python3.12/dist-packages (from supabase) (0.28.1)\n",
            "Requirement already satisfied: deprecation<3.0.0,>=2.1.0 in /usr/local/lib/python3.12/dist-packages (from postgrest==1.1.1->supabase) (2.1.0)\n",
            "Requirement already satisfied: pydantic<3.0,>=1.9 in /usr/local/lib/python3.12/dist-packages (from postgrest==1.1.1->supabase) (2.11.7)\n",
            "Requirement already satisfied: typing-extensions>=4.14.0 in /usr/local/lib/python3.12/dist-packages (from realtime==2.7.0->supabase) (4.15.0)\n",
            "Requirement already satisfied: websockets<16,>=11 in /usr/local/lib/python3.12/dist-packages (from realtime==2.7.0->supabase) (15.0.1)\n",
            "Requirement already satisfied: python-dateutil<3.0.0,>=2.8.2 in /usr/local/lib/python3.12/dist-packages (from storage3==0.12.1->supabase) (2.9.0.post0)\n",
            "Requirement already satisfied: pyjwt<3.0.0,>=2.10.1 in /usr/local/lib/python3.12/dist-packages (from supabase-auth==2.12.3->supabase) (2.10.1)\n",
            "Requirement already satisfied: strenum<0.5.0,>=0.4.15 in /usr/local/lib/python3.12/dist-packages (from supabase-functions==0.10.1->supabase) (0.4.15)\n",
            "Requirement already satisfied: anyio in /usr/local/lib/python3.12/dist-packages (from httpx<0.29,>=0.26->supabase) (4.10.0)\n",
            "Requirement already satisfied: certifi in /usr/local/lib/python3.12/dist-packages (from httpx<0.29,>=0.26->supabase) (2025.8.3)\n",
            "Requirement already satisfied: httpcore==1.* in /usr/local/lib/python3.12/dist-packages (from httpx<0.29,>=0.26->supabase) (1.0.9)\n",
            "Requirement already satisfied: idna in /usr/local/lib/python3.12/dist-packages (from httpx<0.29,>=0.26->supabase) (3.10)\n",
            "Requirement already satisfied: h11>=0.16 in /usr/local/lib/python3.12/dist-packages (from httpcore==1.*->httpx<0.29,>=0.26->supabase) (0.16.0)\n",
            "Requirement already satisfied: packaging in /usr/local/lib/python3.12/dist-packages (from deprecation<3.0.0,>=2.1.0->postgrest==1.1.1->supabase) (25.0)\n",
            "Requirement already satisfied: h2<5,>=3 in /usr/local/lib/python3.12/dist-packages (from httpx[http2]<0.29,>=0.26->postgrest==1.1.1->supabase) (4.3.0)\n",
            "Requirement already satisfied: annotated-types>=0.6.0 in /usr/local/lib/python3.12/dist-packages (from pydantic<3.0,>=1.9->postgrest==1.1.1->supabase) (0.7.0)\n",
            "Requirement already satisfied: pydantic-core==2.33.2 in /usr/local/lib/python3.12/dist-packages (from pydantic<3.0,>=1.9->postgrest==1.1.1->supabase) (2.33.2)\n",
            "Requirement already satisfied: typing-inspection>=0.4.0 in /usr/local/lib/python3.12/dist-packages (from pydantic<3.0,>=1.9->postgrest==1.1.1->supabase) (0.4.1)\n",
            "Requirement already satisfied: six>=1.5 in /usr/local/lib/python3.12/dist-packages (from python-dateutil<3.0.0,>=2.8.2->storage3==0.12.1->supabase) (1.17.0)\n",
            "Requirement already satisfied: sniffio>=1.1 in /usr/local/lib/python3.12/dist-packages (from anyio->httpx<0.29,>=0.26->supabase) (1.3.1)\n",
            "Requirement already satisfied: hyperframe<7,>=6.1 in /usr/local/lib/python3.12/dist-packages (from h2<5,>=3->httpx[http2]<0.29,>=0.26->postgrest==1.1.1->supabase) (6.1.0)\n",
            "Requirement already satisfied: hpack<5,>=4.1 in /usr/local/lib/python3.12/dist-packages (from h2<5,>=3->httpx[http2]<0.29,>=0.26->postgrest==1.1.1->supabase) (4.1.0)\n"
          ]
        }
      ]
    },
    {
      "cell_type": "code",
      "source": [
        "from getpass import getpass\n",
        "\n",
        "TELEGRAM_TOKEN = getpass(\"TELEGRAM_TOKEN: \")\n",
        "SUPABASE_URL = getpass(\"SUPABASE_URL (https://...): \")\n",
        "SUPABASE_KEY = getpass(\"SUPABASE_KEY: \")\n",
        "OPENROUTER_KEY = getpass(\"OPENROUTER_KEY: \")\n",
        "\n",
        "NGROK_AUTH = getpass(\"NGROK_AUTH_TOKEN (optional, press enter to skip): \")\n",
        "\n",
        "with open('/content/secrets.env','w') as f:\n",
        "    f.write(f\"TELEGRAM_TOKEN={TELEGRAM_TOKEN}\\n\")\n",
        "    f.write(f\"SUPABASE_URL={SUPABASE_URL}\\n\")\n",
        "    f.write(f\"SUPABASE_KEY={SUPABASE_KEY}\\n\")\n",
        "    f.write(f\"OPENROUTER_KEY={OPENROUTER_KEY}\\n\")\n",
        "    if NGROK_AUTH:\n",
        "        f.write(f\"NGROK_AUTH={NGROK_AUTH}\\n\")\n",
        "\n",
        "print(\"✅ Saved secrets to /content/secrets.env\")\n"
      ],
      "metadata": {
        "colab": {
          "base_uri": "https://localhost:8080/"
        },
        "id": "HnFlHRD3uVNX",
        "outputId": "421aadf3-57f4-4870-9185-1fb39b878af5"
      },
      "execution_count": 2,
      "outputs": [
        {
          "output_type": "stream",
          "name": "stdout",
          "text": [
            "NGROK_AUTH_TOKEN (optional, press enter to skip): ··········\n",
            "✅ Saved secrets to /content/secrets.env\n"
          ]
        }
      ]
    },
    {
      "cell_type": "code",
      "source": [
        "%%writefile /content/main.py\n",
        "import os\n",
        "import requests\n",
        "from dotenv import load_dotenv\n",
        "from fastapi import FastAPI, Request\n",
        "from fastapi.responses import JSONResponse\n",
        "from supabase import create_client\n",
        "\n",
        "# Load secrets\n",
        "load_dotenv(\"/content/secrets.env\")\n",
        "\n",
        "TELEGRAM_TOKEN = os.getenv(\"TELEGRAM_TOKEN\")\n",
        "OPENROUTER_KEY = os.getenv(\"OPENROUTER_KEY\")\n",
        "SUPABASE_URL = os.getenv(\"SUPABASE_URL\")\n",
        "SUPABASE_KEY = os.getenv(\"SUPABASE_KEY\")\n",
        "\n",
        "# Clients\n",
        "supabase = create_client(SUPABASE_URL, SUPABASE_KEY)\n",
        "TELEGRAM_API_URL = f\"https://api.telegram.org/bot{TELEGRAM_TOKEN}\"\n",
        "\n",
        "# FastAPI app\n",
        "app = FastAPI()\n",
        "\n",
        "\n",
        "@app.post(\"/webhook\")\n",
        "async def webhook(request: Request):\n",
        "    data = await request.json()\n",
        "    print(\"📩 Telegram update:\", data)\n",
        "\n",
        "    if \"message\" in data and \"text\" in data[\"message\"]:\n",
        "        chat_id = data[\"message\"][\"chat\"][\"id\"]\n",
        "        user_id = data[\"message\"][\"from\"][\"id\"]\n",
        "        user_message = data[\"message\"][\"text\"]\n",
        "\n",
        "        # 🔹 Save user message to conversationmemory\n",
        "        try:\n",
        "            supabase.table(\"conversationmemory\").insert({\n",
        "                \"sender\": str(user_id),\n",
        "                \"recipient\": str(chat_id),\n",
        "                \"message\": user_message\n",
        "            }).execute()\n",
        "        except Exception as e:\n",
        "            print(\"❌ Insert user message error:\", e)\n",
        "\n",
        "        # 🔹 Retrieve last 5 messages for context\n",
        "        memory_text = \"\"\n",
        "        try:\n",
        "            res = (\n",
        "                supabase.table(\"conversationmemory\")\n",
        "                .select(\"sender,message,created_at\")\n",
        "                .eq(\"sender\", str(user_id))\n",
        "                .eq(\"recipient\", str(chat_id))\n",
        "                .order(\"created_at\", desc=False)\n",
        "                .execute()\n",
        "            )\n",
        "            memories = res.data if res and 'data' in res else []\n",
        "            last_messages = memories[-5:]\n",
        "            memory_text = \"\\n\".join([f\"{m['sender']}: {m['message']}\" for m in last_messages])\n",
        "        except Exception as e:\n",
        "            print(\"❌ Fetch last messages error:\", e)\n",
        "\n",
        "        # 🔹 Try cache: look in reply_logs for previous identical user_message\n",
        "        ai_reply = None\n",
        "        ai_reply_was_from_cache = False\n",
        "        try:\n",
        "            cached = (\n",
        "                supabase.table(\"reply_logs\")\n",
        "                .select(\"ai_message,created_at\")\n",
        "                .eq(\"chat_id\", str(chat_id))\n",
        "                .eq(\"user_message\", user_message)\n",
        "                .order(\"created_at\", desc=True)\n",
        "                .limit(1)\n",
        "                .execute()\n",
        "            )\n",
        "\n",
        "            if cached.data:\n",
        "                ai_reply = cached.data[0][\"ai_message\"]\n",
        "                ai_reply_was_from_cache = True\n",
        "                print(\"⚡ Cache HIT from reply_logs.\")\n",
        "            else:\n",
        "                print(\"⚪ No cache found for this message.\")\n",
        "        except Exception as e:\n",
        "            print(\"❌ Cache check error:\", e)\n",
        "\n",
        "        # 🔹 If not cached → Call LLM\n",
        "        if not ai_reply:\n",
        "            system_role = (\n",
        "                \"You are a helpful technical assistant. \"\n",
        "                \"If the user asks about iTech, explain in that context. \"\n",
        "                \"Otherwise, answer normally about general tech/programming questions.\"\n",
        "            )\n",
        "\n",
        "            prompt = f\"\"\"Context (last messages):\n",
        "{memory_text}\n",
        "\n",
        "User: {user_message}\n",
        "\n",
        "Reply briefly and helpfully.\n",
        "\"\"\"\n",
        "\n",
        "            ai_reply = \"Sorry, AI service unavailable. Please try again later.\"\n",
        "            try:\n",
        "                response = requests.post(\n",
        "                    \"https://openrouter.ai/api/v1/chat/completions\",\n",
        "                    headers={\n",
        "                        \"Authorization\": f\"Bearer {OPENROUTER_KEY}\",\n",
        "                        \"Content-Type\": \"application/json\"\n",
        "                    },\n",
        "                    json={\n",
        "                        \"model\": \"nvidia/nemotron-nano-9b-v2:free\",\n",
        "                        \"messages\": [\n",
        "                            {\"role\": \"system\", \"content\": system_role},\n",
        "                            {\"role\": \"user\", \"content\": prompt}\n",
        "                        ]\n",
        "                    },\n",
        "                    timeout=20\n",
        "                )\n",
        "                response.raise_for_status()\n",
        "                res_json = response.json()\n",
        "                ai_reply = res_json[\"choices\"][0][\"message\"][\"content\"]\n",
        "                ai_reply_was_from_cache = False\n",
        "\n",
        "                # Save AI reply into conversationmemory\n",
        "                try:\n",
        "                    supabase.table(\"conversationmemory\").insert({\n",
        "                        \"sender\": \"AI\",\n",
        "                        \"recipient\": str(chat_id),\n",
        "                        \"message\": ai_reply\n",
        "                    }).execute()\n",
        "                except Exception as e:\n",
        "                    print(\"❌ Insert AI response error:\", e)\n",
        "            except Exception as e:\n",
        "                print(\"❌ LLM error:\", e)\n",
        "                print(\"🔴 Full response text:\", getattr(response, \"text\", \"No response text\"))\n",
        "\n",
        "        # 🔹 Always log into reply_logs (for cache next time)\n",
        "        try:\n",
        "            supabase.table(\"reply_logs\").insert({\n",
        "                \"chat_id\": str(chat_id),\n",
        "                \"user_message\": user_message,\n",
        "                \"ai_message\": ai_reply,\n",
        "                \"source\": \"cache\" if ai_reply_was_from_cache else \"llm\"\n",
        "            }).execute()\n",
        "        except Exception as e:\n",
        "            print(\"❌ Insert reply_logs error:\", e)\n",
        "\n",
        "        # 🔹 Send reply to Telegram\n",
        "        try:\n",
        "            requests.post(f\"{TELEGRAM_API_URL}/sendMessage\", json={\n",
        "                \"chat_id\": chat_id,\n",
        "                \"text\": ai_reply\n",
        "            })\n",
        "        except Exception as e:\n",
        "            print(\"❌ Telegram send error:\", e)\n",
        "\n",
        "    return JSONResponse(content={\"ok\": True})\n"
      ],
      "metadata": {
        "colab": {
          "base_uri": "https://localhost:8080/"
        },
        "id": "xKduIRyruwPS",
        "outputId": "57d4ff05-1be8-4d46-af19-3344a2bb97f4"
      },
      "execution_count": 38,
      "outputs": [
        {
          "output_type": "stream",
          "name": "stdout",
          "text": [
            "Overwriting /content/main.py\n"
          ]
        }
      ]
    },
    {
      "cell_type": "code",
      "source": [
        "from pyngrok import ngrok\n",
        "from dotenv import load_dotenv\n",
        "import os, time\n",
        "\n",
        "load_dotenv('/content/secrets.env')\n",
        "NGROK_AUTH = os.getenv('NGROK_AUTH')\n",
        "\n",
        "if NGROK_AUTH:\n",
        "    ngrok.set_auth_token(NGROK_AUTH)\n",
        "\n",
        "public_url = ngrok.connect(8000)\n",
        "print(\"🌍 Public URL:\", public_url)\n",
        "\n",
        "# تشغيل السيرفر\n",
        "get_ipython().system_raw(\"uvicorn main:app --host 0.0.0.0 --port 8000 > /content/uvicorn.log 2>&1 &\")\n",
        "time.sleep(2)\n",
        "!tail -n 10 /content/uvicorn.log\n"
      ],
      "metadata": {
        "colab": {
          "base_uri": "https://localhost:8080/"
        },
        "id": "cGHvyR-x-Kff",
        "outputId": "2072fbbf-6a9f-4c28-c914-a085f7fc7eb8"
      },
      "execution_count": 40,
      "outputs": [
        {
          "output_type": "stream",
          "name": "stdout",
          "text": [
            "🌍 Public URL: NgrokTunnel: \"https://3d407787d2ef.ngrok-free.app\" -> \"http://localhost:8000\"\n",
            "INFO:     Started server process [18266]\n",
            "INFO:     Waiting for application startup.\n",
            "INFO:     Application startup complete.\n",
            "INFO:     Uvicorn running on http://0.0.0.0:8000 (Press CTRL+C to quit)\n"
          ]
        }
      ]
    },
    {
      "cell_type": "code",
      "source": [
        "import requests, os\n",
        "\n",
        "TELEGRAM_TOKEN = os.getenv(\"TELEGRAM_TOKEN\")\n",
        "NGROK_URL = \"https://3d407787d2ef.ngrok-free.app\"\n",
        "\n",
        "url = f\"https://api.telegram.org/bot{TELEGRAM_TOKEN}/setWebhook\"\n",
        "resp = requests.get(url, params={\"url\": f\"{NGROK_URL}/webhook\"})\n",
        "print(resp.json())\n"
      ],
      "metadata": {
        "colab": {
          "base_uri": "https://localhost:8080/"
        },
        "id": "aAgODG0BKcZj",
        "outputId": "eb71075c-8740-42d4-8ae0-8e0ac2000dd8"
      },
      "execution_count": 41,
      "outputs": [
        {
          "output_type": "stream",
          "name": "stdout",
          "text": [
            "{'ok': True, 'result': True, 'description': 'Webhook was set'}\n"
          ]
        }
      ]
    },
    {
      "cell_type": "code",
      "source": [
        "!tail -n 50 /content/uvicorn.log\n"
      ],
      "metadata": {
        "colab": {
          "base_uri": "https://localhost:8080/"
        },
        "id": "YtxY3vq4NsqZ",
        "outputId": "e40422a6-4359-4aef-d69b-933e948f6bfd"
      },
      "execution_count": null,
      "outputs": [
        {
          "output_type": "stream",
          "name": "stdout",
          "text": [
            "INFO:     Started server process [8261]\n",
            "INFO:     Waiting for application startup.\n",
            "INFO:     Application startup complete.\n",
            "INFO:     Uvicorn running on http://0.0.0.0:8000 (Press CTRL+C to quit)\n",
            "📩 Telegram update: {'update_id': 212316237, 'message': {'message_id': 46, 'from': {'id': 5661638274, 'is_bot': False, 'first_name': 'Salma', 'last_name': 'Azoz', 'username': 'Salmaazoz', 'language_code': 'en'}, 'chat': {'id': 5661638274, 'first_name': 'Salma', 'last_name': 'Azoz', 'username': 'Salmaazoz', 'type': 'private'}, 'date': 1757702697, 'text': 'hey'}}\n",
            "✅ LLM Response: {'id': 'gen-1757702697-8aexRT4eCg7km1MHFBQt', 'provider': 'Nvidia', 'model': 'nvidia/nemotron-nano-9b-v2:free', 'object': 'chat.completion', 'created': 1757702698, 'choices': [{'logprobs': None, 'finish_reason': 'stop', 'native_finish_reason': 'stop', 'index': 0, 'message': {'role': 'assistant', 'content': 'Hello! How can I assist you today? 😊\\n', 'refusal': None, 'reasoning': 'Okay, the user just said \"hey\". That\\'s a greeting. I should respond politely and warmly. Since they mentioned being kind and professional, I need to make sure my response matches that tone. Maybe say hello back and offer assistance. Let me keep it friendly but not too casual. Something like, \"Hello! How can I assist you today?\" That should cover it. Check if there\\'s anything else needed, but since the user\\'s message is just a greeting, a straightforward reply should work.\\n', 'reasoning_details': [{'type': 'reasoning.text', 'text': 'Okay, the user just said \"hey\". That\\'s a greeting. I should respond politely and warmly. Since they mentioned being kind and professional, I need to make sure my response matches that tone. Maybe say hello back and offer assistance. Let me keep it friendly but not too casual. Something like, \"Hello! How can I assist you today?\" That should cover it. Check if there\\'s anything else needed, but since the user\\'s message is just a greeting, a straightforward reply should work.\\n', 'format': 'unknown', 'index': 0}]}}], 'usage': {'prompt_tokens': 30, 'completion_tokens': 120, 'total_tokens': 150}}\n",
            "INFO:     91.108.5.50:0 - \"POST /webhook HTTP/1.1\" 200 OK\n"
          ]
        }
      ]
    },
    {
      "cell_type": "code",
      "source": [
        "!pkill -f ngrok\n",
        "!pkill -f uvicorn\n"
      ],
      "metadata": {
        "id": "nuoVK6djPfu5"
      },
      "execution_count": 39,
      "outputs": []
    }
  ]
}