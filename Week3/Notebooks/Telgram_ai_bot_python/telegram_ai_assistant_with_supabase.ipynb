{
  "nbformat": 4,
  "nbformat_minor": 0,
  "metadata": {
    "colab": {
      "provenance": []
    },
    "kernelspec": {
      "name": "python3",
      "display_name": "Python 3"
    },
    "language_info": {
      "name": "python"
    }
  },
  "cells": [
    {
      "cell_type": "code",
      "source": [
        "!pip install fastapi uvicorn requests supabase python-telegram-bot python-dotenv pyngrok nest_asyncio\n"
      ],
      "metadata": {
        "colab": {
          "base_uri": "https://localhost:8080/"
        },
        "id": "lkg1hwqUuNRC",
        "outputId": "7d8d22b5-f071-42e7-bfee-0684aa4972f0"
      },
      "execution_count": 1,
      "outputs": [
        {
          "output_type": "stream",
          "name": "stdout",
          "text": [
            "Requirement already satisfied: fastapi in /usr/local/lib/python3.12/dist-packages (0.116.1)\n",
            "Requirement already satisfied: uvicorn in /usr/local/lib/python3.12/dist-packages (0.35.0)\n",
            "Requirement already satisfied: requests in /usr/local/lib/python3.12/dist-packages (2.32.4)\n",
            "Requirement already satisfied: supabase in /usr/local/lib/python3.12/dist-packages (2.18.1)\n",
            "Requirement already satisfied: python-telegram-bot in /usr/local/lib/python3.12/dist-packages (22.3)\n",
            "Requirement already satisfied: python-dotenv in /usr/local/lib/python3.12/dist-packages (1.1.1)\n",
            "Requirement already satisfied: pyngrok in /usr/local/lib/python3.12/dist-packages (7.3.0)\n",
            "Requirement already satisfied: nest_asyncio in /usr/local/lib/python3.12/dist-packages (1.6.0)\n",
            "Requirement already satisfied: starlette<0.48.0,>=0.40.0 in /usr/local/lib/python3.12/dist-packages (from fastapi) (0.47.3)\n",
            "Requirement already satisfied: pydantic!=1.8,!=1.8.1,!=2.0.0,!=2.0.1,!=2.1.0,<3.0.0,>=1.7.4 in /usr/local/lib/python3.12/dist-packages (from fastapi) (2.11.7)\n",
            "Requirement already satisfied: typing-extensions>=4.8.0 in /usr/local/lib/python3.12/dist-packages (from fastapi) (4.15.0)\n",
            "Requirement already satisfied: click>=7.0 in /usr/local/lib/python3.12/dist-packages (from uvicorn) (8.2.1)\n",
            "Requirement already satisfied: h11>=0.8 in /usr/local/lib/python3.12/dist-packages (from uvicorn) (0.16.0)\n",
            "Requirement already satisfied: charset_normalizer<4,>=2 in /usr/local/lib/python3.12/dist-packages (from requests) (3.4.3)\n",
            "Requirement already satisfied: idna<4,>=2.5 in /usr/local/lib/python3.12/dist-packages (from requests) (3.10)\n",
            "Requirement already satisfied: urllib3<3,>=1.21.1 in /usr/local/lib/python3.12/dist-packages (from requests) (2.5.0)\n",
            "Requirement already satisfied: certifi>=2017.4.17 in /usr/local/lib/python3.12/dist-packages (from requests) (2025.8.3)\n",
            "Requirement already satisfied: postgrest==1.1.1 in /usr/local/lib/python3.12/dist-packages (from supabase) (1.1.1)\n",
            "Requirement already satisfied: realtime==2.7.0 in /usr/local/lib/python3.12/dist-packages (from supabase) (2.7.0)\n",
            "Requirement already satisfied: supabase-auth==2.12.3 in /usr/local/lib/python3.12/dist-packages (from supabase) (2.12.3)\n",
            "Requirement already satisfied: storage3==0.12.1 in /usr/local/lib/python3.12/dist-packages (from supabase) (0.12.1)\n",
            "Requirement already satisfied: supabase-functions==0.10.1 in /usr/local/lib/python3.12/dist-packages (from supabase) (0.10.1)\n",
            "Requirement already satisfied: httpx<0.29,>=0.26 in /usr/local/lib/python3.12/dist-packages (from supabase) (0.28.1)\n",
            "Requirement already satisfied: deprecation<3.0.0,>=2.1.0 in /usr/local/lib/python3.12/dist-packages (from postgrest==1.1.1->supabase) (2.1.0)\n",
            "Requirement already satisfied: websockets<16,>=11 in /usr/local/lib/python3.12/dist-packages (from realtime==2.7.0->supabase) (15.0.1)\n",
            "Requirement already satisfied: python-dateutil<3.0.0,>=2.8.2 in /usr/local/lib/python3.12/dist-packages (from storage3==0.12.1->supabase) (2.9.0.post0)\n",
            "Requirement already satisfied: pyjwt<3.0.0,>=2.10.1 in /usr/local/lib/python3.12/dist-packages (from supabase-auth==2.12.3->supabase) (2.10.1)\n",
            "Requirement already satisfied: strenum<0.5.0,>=0.4.15 in /usr/local/lib/python3.12/dist-packages (from supabase-functions==0.10.1->supabase) (0.4.15)\n",
            "Requirement already satisfied: PyYAML>=5.1 in /usr/local/lib/python3.12/dist-packages (from pyngrok) (6.0.2)\n",
            "Requirement already satisfied: anyio in /usr/local/lib/python3.12/dist-packages (from httpx<0.29,>=0.26->supabase) (4.10.0)\n",
            "Requirement already satisfied: httpcore==1.* in /usr/local/lib/python3.12/dist-packages (from httpx<0.29,>=0.26->supabase) (1.0.9)\n",
            "Requirement already satisfied: annotated-types>=0.6.0 in /usr/local/lib/python3.12/dist-packages (from pydantic!=1.8,!=1.8.1,!=2.0.0,!=2.0.1,!=2.1.0,<3.0.0,>=1.7.4->fastapi) (0.7.0)\n",
            "Requirement already satisfied: pydantic-core==2.33.2 in /usr/local/lib/python3.12/dist-packages (from pydantic!=1.8,!=1.8.1,!=2.0.0,!=2.0.1,!=2.1.0,<3.0.0,>=1.7.4->fastapi) (2.33.2)\n",
            "Requirement already satisfied: typing-inspection>=0.4.0 in /usr/local/lib/python3.12/dist-packages (from pydantic!=1.8,!=1.8.1,!=2.0.0,!=2.0.1,!=2.1.0,<3.0.0,>=1.7.4->fastapi) (0.4.1)\n",
            "Requirement already satisfied: sniffio>=1.1 in /usr/local/lib/python3.12/dist-packages (from anyio->httpx<0.29,>=0.26->supabase) (1.3.1)\n",
            "Requirement already satisfied: packaging in /usr/local/lib/python3.12/dist-packages (from deprecation<3.0.0,>=2.1.0->postgrest==1.1.1->supabase) (25.0)\n",
            "Requirement already satisfied: h2<5,>=3 in /usr/local/lib/python3.12/dist-packages (from httpx[http2]<0.29,>=0.26->postgrest==1.1.1->supabase) (4.3.0)\n",
            "Requirement already satisfied: six>=1.5 in /usr/local/lib/python3.12/dist-packages (from python-dateutil<3.0.0,>=2.8.2->storage3==0.12.1->supabase) (1.17.0)\n",
            "Requirement already satisfied: hyperframe<7,>=6.1 in /usr/local/lib/python3.12/dist-packages (from h2<5,>=3->httpx[http2]<0.29,>=0.26->postgrest==1.1.1->supabase) (6.1.0)\n",
            "Requirement already satisfied: hpack<5,>=4.1 in /usr/local/lib/python3.12/dist-packages (from h2<5,>=3->httpx[http2]<0.29,>=0.26->postgrest==1.1.1->supabase) (4.1.0)\n"
          ]
        }
      ]
    },
    {
      "cell_type": "code",
      "source": [
        "!pip install supabase"
      ],
      "metadata": {
        "colab": {
          "base_uri": "https://localhost:8080/"
        },
        "id": "TBFbuyo9Ypdd",
        "outputId": "614149de-cfc6-4400-dfdf-25eb91b05523"
      },
      "execution_count": 29,
      "outputs": [
        {
          "output_type": "stream",
          "name": "stdout",
          "text": [
            "Requirement already satisfied: supabase in /usr/local/lib/python3.12/dist-packages (2.18.1)\n",
            "Requirement already satisfied: postgrest==1.1.1 in /usr/local/lib/python3.12/dist-packages (from supabase) (1.1.1)\n",
            "Requirement already satisfied: realtime==2.7.0 in /usr/local/lib/python3.12/dist-packages (from supabase) (2.7.0)\n",
            "Requirement already satisfied: supabase-auth==2.12.3 in /usr/local/lib/python3.12/dist-packages (from supabase) (2.12.3)\n",
            "Requirement already satisfied: storage3==0.12.1 in /usr/local/lib/python3.12/dist-packages (from supabase) (0.12.1)\n",
            "Requirement already satisfied: supabase-functions==0.10.1 in /usr/local/lib/python3.12/dist-packages (from supabase) (0.10.1)\n",
            "Requirement already satisfied: httpx<0.29,>=0.26 in /usr/local/lib/python3.12/dist-packages (from supabase) (0.28.1)\n",
            "Requirement already satisfied: deprecation<3.0.0,>=2.1.0 in /usr/local/lib/python3.12/dist-packages (from postgrest==1.1.1->supabase) (2.1.0)\n",
            "Requirement already satisfied: pydantic<3.0,>=1.9 in /usr/local/lib/python3.12/dist-packages (from postgrest==1.1.1->supabase) (2.11.7)\n",
            "Requirement already satisfied: typing-extensions>=4.14.0 in /usr/local/lib/python3.12/dist-packages (from realtime==2.7.0->supabase) (4.15.0)\n",
            "Requirement already satisfied: websockets<16,>=11 in /usr/local/lib/python3.12/dist-packages (from realtime==2.7.0->supabase) (15.0.1)\n",
            "Requirement already satisfied: python-dateutil<3.0.0,>=2.8.2 in /usr/local/lib/python3.12/dist-packages (from storage3==0.12.1->supabase) (2.9.0.post0)\n",
            "Requirement already satisfied: pyjwt<3.0.0,>=2.10.1 in /usr/local/lib/python3.12/dist-packages (from supabase-auth==2.12.3->supabase) (2.10.1)\n",
            "Requirement already satisfied: strenum<0.5.0,>=0.4.15 in /usr/local/lib/python3.12/dist-packages (from supabase-functions==0.10.1->supabase) (0.4.15)\n",
            "Requirement already satisfied: anyio in /usr/local/lib/python3.12/dist-packages (from httpx<0.29,>=0.26->supabase) (4.10.0)\n",
            "Requirement already satisfied: certifi in /usr/local/lib/python3.12/dist-packages (from httpx<0.29,>=0.26->supabase) (2025.8.3)\n",
            "Requirement already satisfied: httpcore==1.* in /usr/local/lib/python3.12/dist-packages (from httpx<0.29,>=0.26->supabase) (1.0.9)\n",
            "Requirement already satisfied: idna in /usr/local/lib/python3.12/dist-packages (from httpx<0.29,>=0.26->supabase) (3.10)\n",
            "Requirement already satisfied: h11>=0.16 in /usr/local/lib/python3.12/dist-packages (from httpcore==1.*->httpx<0.29,>=0.26->supabase) (0.16.0)\n",
            "Requirement already satisfied: packaging in /usr/local/lib/python3.12/dist-packages (from deprecation<3.0.0,>=2.1.0->postgrest==1.1.1->supabase) (25.0)\n",
            "Requirement already satisfied: h2<5,>=3 in /usr/local/lib/python3.12/dist-packages (from httpx[http2]<0.29,>=0.26->postgrest==1.1.1->supabase) (4.3.0)\n",
            "Requirement already satisfied: annotated-types>=0.6.0 in /usr/local/lib/python3.12/dist-packages (from pydantic<3.0,>=1.9->postgrest==1.1.1->supabase) (0.7.0)\n",
            "Requirement already satisfied: pydantic-core==2.33.2 in /usr/local/lib/python3.12/dist-packages (from pydantic<3.0,>=1.9->postgrest==1.1.1->supabase) (2.33.2)\n",
            "Requirement already satisfied: typing-inspection>=0.4.0 in /usr/local/lib/python3.12/dist-packages (from pydantic<3.0,>=1.9->postgrest==1.1.1->supabase) (0.4.1)\n",
            "Requirement already satisfied: six>=1.5 in /usr/local/lib/python3.12/dist-packages (from python-dateutil<3.0.0,>=2.8.2->storage3==0.12.1->supabase) (1.17.0)\n",
            "Requirement already satisfied: sniffio>=1.1 in /usr/local/lib/python3.12/dist-packages (from anyio->httpx<0.29,>=0.26->supabase) (1.3.1)\n",
            "Requirement already satisfied: hyperframe<7,>=6.1 in /usr/local/lib/python3.12/dist-packages (from h2<5,>=3->httpx[http2]<0.29,>=0.26->postgrest==1.1.1->supabase) (6.1.0)\n",
            "Requirement already satisfied: hpack<5,>=4.1 in /usr/local/lib/python3.12/dist-packages (from h2<5,>=3->httpx[http2]<0.29,>=0.26->postgrest==1.1.1->supabase) (4.1.0)\n"
          ]
        }
      ]
    },
    {
      "cell_type": "code",
      "source": [
        "from getpass import getpass\n",
        "\n",
        "TELEGRAM_TOKEN = getpass(\"TELEGRAM_TOKEN: \")\n",
        "SUPABASE_URL = getpass(\"SUPABASE_URL (https://...): \")\n",
        "SUPABASE_KEY = getpass(\"SUPABASE_KEY: \")\n",
        "OPENROUTER_KEY = getpass(\"OPENROUTER_KEY: \")\n",
        "\n",
        "NGROK_AUTH = getpass(\"NGROK_AUTH_TOKEN (optional, press enter to skip): \")\n",
        "\n",
        "with open('/content/secrets.env','w') as f:\n",
        "    f.write(f\"TELEGRAM_TOKEN={TELEGRAM_TOKEN}\\n\")\n",
        "    f.write(f\"SUPABASE_URL={SUPABASE_URL}\\n\")\n",
        "    f.write(f\"SUPABASE_KEY={SUPABASE_KEY}\\n\")\n",
        "    f.write(f\"OPENROUTER_KEY={OPENROUTER_KEY}\\n\")\n",
        "    if NGROK_AUTH:\n",
        "        f.write(f\"NGROK_AUTH={NGROK_AUTH}\\n\")\n",
        "\n",
        "print(\"✅ Saved secrets to /content/secrets.env\")\n"
      ],
      "metadata": {
        "colab": {
          "base_uri": "https://localhost:8080/"
        },
        "id": "HnFlHRD3uVNX",
        "outputId": "23dd7065-ac9b-47cf-b74d-77e4a86b87dc"
      },
      "execution_count": 2,
      "outputs": [
        {
          "output_type": "stream",
          "name": "stdout",
          "text": [
            "TELEGRAM_TOKEN: ··········\n",
            "SUPABASE_URL (https://...): ··········\n",
            "SUPABASE_KEY: ··········\n",
            "OPENROUTER_KEY: ··········\n",
            "NGROK_AUTH_TOKEN (optional, press enter to skip): ··········\n",
            "✅ Saved secrets to /content/secrets.env\n"
          ]
        }
      ]
    },
    {
      "cell_type": "code",
      "source": [
        "%%writefile /content/main.py\n",
        "import os\n",
        "import requests\n",
        "from dotenv import load_dotenv\n",
        "from fastapi import FastAPI, Request\n",
        "from fastapi.responses import JSONResponse\n",
        "from supabase import create_client\n",
        "\n",
        "# تحميل المتغيرات\n",
        "load_dotenv(\"/content/secrets.env\")\n",
        "\n",
        "TELEGRAM_TOKEN = os.getenv(\"TELEGRAM_TOKEN\")\n",
        "OPENROUTER_KEY = os.getenv(\"OPENROUTER_KEY\")\n",
        "SUPABASE_URL = os.getenv(\"SUPABASE_URL\")\n",
        "SUPABASE_KEY = os.getenv(\"SUPABASE_KEY\")\n",
        "\n",
        "# إنشاء clients\n",
        "supabase = create_client(SUPABASE_URL, SUPABASE_KEY)\n",
        "TELEGRAM_API_URL = f\"https://api.telegram.org/bot{TELEGRAM_TOKEN}\"\n",
        "\n",
        "app = FastAPI()\n",
        "\n",
        "@app.post(\"/webhook\")\n",
        "async def webhook(request: Request):\n",
        "    data = await request.json()\n",
        "    print(\"📩 Telegram update:\", data)\n",
        "\n",
        "    if \"message\" in data and \"text\" in data[\"message\"]:\n",
        "        chat_id = data[\"message\"][\"chat\"][\"id\"]\n",
        "        user_id = data[\"message\"][\"from\"][\"id\"]\n",
        "        user_message = data[\"message\"][\"text\"]\n",
        "\n",
        "        # 🔹 حفظ رسالة المستخدم في Supabase\n",
        "        try:\n",
        "            supabase.table(\"conversationmemory\").insert({\n",
        "                \"sender\": str(user_id),\n",
        "                \"recipient\": str(chat_id),\n",
        "                \"message\": user_message\n",
        "            }).execute()\n",
        "        except Exception as e:\n",
        "            print(\"❌ Insert user message error:\", e)\n",
        "\n",
        "        # 🔹 استرجاع آخر 5 رسائل لهذا المستخدم\n",
        "        memory_text = \"\"\n",
        "        try:\n",
        "            res = supabase.table(\"conversationmemory\") \\\n",
        "                .select(\"sender,message,created_at\") \\\n",
        "                .eq(\"sender\", str(user_id)) \\\n",
        "                .order(\"created_at\", desc=False) \\\n",
        "                .execute()\n",
        "            memories = res.data if res and 'data' in res else []\n",
        "            last_messages = memories[-5:]\n",
        "            memory_text = \"\\n\".join([f\"{m['sender']}: {m['message']}\" for m in last_messages])\n",
        "        except Exception as e:\n",
        "            print(\"❌ Fetch last messages error:\", e)\n",
        "\n",
        "        # 🔹 بناء البرومبت للـ AI\n",
        "        prompt = f\"\"\"You are iTech AI Assistant. Be kind and professional.\n",
        "Context (last messages):\n",
        "{memory_text}\n",
        "\n",
        "User: {user_message}\n",
        "\n",
        "Reply briefly and helpfully about iTech.\n",
        "\"\"\"\n",
        "\n",
        "        # 🔹 استدعاء OpenRouter LLM\n",
        "        ai_reply = \"آسف، خدمة الذكاء الصناعي مش شغالة دلوقتي. جربي بعد شوية.\"\n",
        "        try:\n",
        "            response = requests.post(\n",
        "                \"https://openrouter.ai/api/v1/chat/completions\",\n",
        "                headers={\n",
        "                    \"Authorization\": f\"Bearer {OPENROUTER_KEY}\",\n",
        "                    \"Content-Type\": \"application/json\"\n",
        "                },\n",
        "                json={\n",
        "                    \"model\": \"nvidia/nemotron-nano-9b-v2:free\",\n",
        "                    \"messages\": [\n",
        "                        {\"role\": \"system\", \"content\": \"You are a helpful iTech assistant.\"},\n",
        "                        {\"role\": \"user\", \"content\": prompt}\n",
        "                    ]\n",
        "                },\n",
        "                timeout=20\n",
        "            )\n",
        "            response.raise_for_status()\n",
        "            res_json = response.json()\n",
        "            print(\"✅ LLM Response:\", res_json)\n",
        "            ai_reply = res_json[\"choices\"][0][\"message\"][\"content\"]\n",
        "\n",
        "            # 🔹 حفظ رد AI في Supabase\n",
        "            try:\n",
        "                supabase.table(\"conversationmemory\").insert({\n",
        "                    \"sender\": \"AI\",\n",
        "                    \"recipient\": str(chat_id),\n",
        "                    \"message\": ai_reply\n",
        "                }).execute()\n",
        "            except Exception as e:\n",
        "                print(\"❌ Insert AI response error:\", e)\n",
        "\n",
        "        except Exception as e:\n",
        "            print(\"❌ LLM error:\", e)\n",
        "            print(\"🔴 Full response text:\", getattr(response, \"text\", \"No response text\"))\n",
        "\n",
        "        # 🔹 إرسال الرد للتيليجرام\n",
        "        try:\n",
        "            requests.post(f\"{TELEGRAM_API_URL}/sendMessage\", json={\n",
        "                \"chat_id\": chat_id,\n",
        "                \"text\": ai_reply\n",
        "            })\n",
        "        except Exception as e:\n",
        "            print(\"❌ Telegram send error:\", e)\n",
        "\n",
        "    return JSONResponse(content={\"ok\": True})\n"
      ],
      "metadata": {
        "colab": {
          "base_uri": "https://localhost:8080/"
        },
        "id": "uXW1wAzjuq5I",
        "outputId": "564b4498-33d8-4be8-92d4-59979256a377"
      },
      "execution_count": 39,
      "outputs": [
        {
          "output_type": "stream",
          "name": "stdout",
          "text": [
            "Overwriting /content/main.py\n"
          ]
        }
      ]
    },
    {
      "cell_type": "code",
      "source": [
        "from pyngrok import ngrok\n",
        "from dotenv import load_dotenv\n",
        "import os, time\n",
        "\n",
        "load_dotenv('/content/secrets.env')\n",
        "NGROK_AUTH = os.getenv('NGROK_AUTH')\n",
        "\n",
        "if NGROK_AUTH:\n",
        "    ngrok.set_auth_token(NGROK_AUTH)\n",
        "\n",
        "public_url = ngrok.connect(8000)\n",
        "print(\"🌍 Public URL:\", public_url)\n",
        "\n",
        "# تشغيل السيرفر\n",
        "get_ipython().system_raw(\"uvicorn main:app --host 0.0.0.0 --port 8000 > /content/uvicorn.log 2>&1 &\")\n",
        "time.sleep(2)\n",
        "!tail -n 10 /content/uvicorn.log\n"
      ],
      "metadata": {
        "colab": {
          "base_uri": "https://localhost:8080/"
        },
        "id": "xKduIRyruwPS",
        "outputId": "686a234e-122c-4e0a-a5a7-716a6fab1c38"
      },
      "execution_count": 42,
      "outputs": [
        {
          "output_type": "stream",
          "name": "stdout",
          "text": [
            "🌍 Public URL: NgrokTunnel: \"https://e15eac1144d5.ngrok-free.app\" -> \"http://localhost:8000\"\n",
            "INFO:     Started server process [20612]\n",
            "INFO:     Waiting for application startup.\n",
            "INFO:     Application startup complete.\n",
            "INFO:     Uvicorn running on http://0.0.0.0:8000 (Press CTRL+C to quit)\n"
          ]
        }
      ]
    },
    {
      "cell_type": "code",
      "source": [
        "import requests, os\n",
        "\n",
        "TELEGRAM_TOKEN = os.getenv(\"TELEGRAM_TOKEN\")\n",
        "NGROK_URL = \"https://e15eac1144d5.ngrok-free.app\"\n",
        "\n",
        "url = f\"https://api.telegram.org/bot{TELEGRAM_TOKEN}/setWebhook\"\n",
        "resp = requests.get(url, params={\"url\": f\"{NGROK_URL}/webhook\"})\n",
        "print(resp.json())\n"
      ],
      "metadata": {
        "colab": {
          "base_uri": "https://localhost:8080/"
        },
        "id": "aAgODG0BKcZj",
        "outputId": "e93feef5-724f-41a0-c8ee-1895df3013dc"
      },
      "execution_count": 43,
      "outputs": [
        {
          "output_type": "stream",
          "name": "stdout",
          "text": [
            "{'ok': True, 'result': True, 'description': 'Webhook was set'}\n"
          ]
        }
      ]
    },
    {
      "cell_type": "code",
      "source": [
        "!tail -n 50 /content/uvicorn.log\n"
      ],
      "metadata": {
        "colab": {
          "base_uri": "https://localhost:8080/"
        },
        "id": "YtxY3vq4NsqZ",
        "outputId": "e40422a6-4359-4aef-d69b-933e948f6bfd"
      },
      "execution_count": 15,
      "outputs": [
        {
          "output_type": "stream",
          "name": "stdout",
          "text": [
            "INFO:     Started server process [8261]\n",
            "INFO:     Waiting for application startup.\n",
            "INFO:     Application startup complete.\n",
            "INFO:     Uvicorn running on http://0.0.0.0:8000 (Press CTRL+C to quit)\n",
            "📩 Telegram update: {'update_id': 212316237, 'message': {'message_id': 46, 'from': {'id': 5661638274, 'is_bot': False, 'first_name': 'Salma', 'last_name': 'Azoz', 'username': 'Salmaazoz', 'language_code': 'en'}, 'chat': {'id': 5661638274, 'first_name': 'Salma', 'last_name': 'Azoz', 'username': 'Salmaazoz', 'type': 'private'}, 'date': 1757702697, 'text': 'hey'}}\n",
            "✅ LLM Response: {'id': 'gen-1757702697-8aexRT4eCg7km1MHFBQt', 'provider': 'Nvidia', 'model': 'nvidia/nemotron-nano-9b-v2:free', 'object': 'chat.completion', 'created': 1757702698, 'choices': [{'logprobs': None, 'finish_reason': 'stop', 'native_finish_reason': 'stop', 'index': 0, 'message': {'role': 'assistant', 'content': 'Hello! How can I assist you today? 😊\\n', 'refusal': None, 'reasoning': 'Okay, the user just said \"hey\". That\\'s a greeting. I should respond politely and warmly. Since they mentioned being kind and professional, I need to make sure my response matches that tone. Maybe say hello back and offer assistance. Let me keep it friendly but not too casual. Something like, \"Hello! How can I assist you today?\" That should cover it. Check if there\\'s anything else needed, but since the user\\'s message is just a greeting, a straightforward reply should work.\\n', 'reasoning_details': [{'type': 'reasoning.text', 'text': 'Okay, the user just said \"hey\". That\\'s a greeting. I should respond politely and warmly. Since they mentioned being kind and professional, I need to make sure my response matches that tone. Maybe say hello back and offer assistance. Let me keep it friendly but not too casual. Something like, \"Hello! How can I assist you today?\" That should cover it. Check if there\\'s anything else needed, but since the user\\'s message is just a greeting, a straightforward reply should work.\\n', 'format': 'unknown', 'index': 0}]}}], 'usage': {'prompt_tokens': 30, 'completion_tokens': 120, 'total_tokens': 150}}\n",
            "INFO:     91.108.5.50:0 - \"POST /webhook HTTP/1.1\" 200 OK\n"
          ]
        }
      ]
    },
    {
      "cell_type": "code",
      "source": [
        "!pkill -f ngrok\n",
        "!pkill -f uvicorn\n"
      ],
      "metadata": {
        "id": "nuoVK6djPfu5"
      },
      "execution_count": 41,
      "outputs": []
    }
  ]
}